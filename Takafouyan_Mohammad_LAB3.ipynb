{
  "cells": [
    {
      "cell_type": "markdown",
      "metadata": {
        "id": "5P7STEc3lsHb"
      },
      "source": [
        "# Machine Learning LAB 3\n",
        "# IMAGE CLASSIFICATION WITH NEURAL NETWORKS\n",
        "Course 2022/23: P. Zanuttigh, F. Barbato, M. Mel\n",
        "\n",
        "The notebook contains some simple tasks to be performed with **NEURAL NETWORKS (NNs)**. <br>\n",
        "Complete all the **required code sections** and **answer to all the questions**. <br>\n",
        "\n",
        "### IMPORTANT for the evaluation score:\n",
        "1. **Read carefully all cells** and **follow the instructions**\n",
        "2. **Re-run all the code from the beginning** to obtain the results for the final version of your notebook, since this is the way we will do it before evaluating your notebooks.\n",
        "3. Make sure to fill the code in the appropriate places **without modifying the template**, otherwise you risk breaking later cells.\n",
        "4. Please **submit the jupyter notebook file (.ipynb)**, do not submit python scripts (.py) or plain text files. **Make sure that it runs fine with the restat&run all command**.\n",
        "5. **Answer the questions in the appropriate cells**, not in the ones where the question is presented."
      ]
    },
    {
      "cell_type": "markdown",
      "metadata": {
        "id": "kCgcTMpBlsHm"
      },
      "source": [
        "# Clothes Classification with Neural Networks\n",
        "\n",
        "In this notebook we are going to explore the Neural Networks for image classification. We are going to use [**Fashion MNIST**](https://github.com/zalandoresearch/fashion-mnist), a dataset of small images of clothes and accessories.\n",
        "\n",
        "The dataset labels are the following:\n",
        "\n",
        "| Label | Description |\n",
        "| --- | --- |\n",
        "| 0 | T-shirt/top |\n",
        "| 1 | Trouser |\n",
        "| 2 | Pullover |\n",
        "| 3 | Dress |\n",
        "| 4 | Coat |\n",
        "| 5 | Sandal |\n",
        "| 6 | Shirt |\n",
        "| 7 | Sneaker |\n",
        "| 8 | Bag |\n",
        "| 9 | Ankle boot |"
      ]
    },
    {
      "cell_type": "code",
      "execution_count": 2,
      "metadata": {
        "colab": {
          "base_uri": "https://localhost:8080/"
        },
        "id": "4vOU2qLslsHo",
        "outputId": "420326f0-0b27-4391-e427-e63ad4057a5d"
      },
      "outputs": [
        {
          "output_type": "stream",
          "name": "stdout",
          "text": [
            "scikit-learn version:  1.0.2\n"
          ]
        }
      ],
      "source": [
        "# load the required packages and check Scikit-learn version\n",
        "%matplotlib inline  \n",
        "\n",
        "import numpy as np\n",
        "from matplotlib import pyplot as plt\n",
        "\n",
        "import sklearn\n",
        "print ('scikit-learn version: ', sklearn.__version__)\n",
        "from sklearn.neural_network import MLPClassifier\n",
        "from sklearn.model_selection import GridSearchCV\n",
        "from sklearn.svm import SVC\n",
        "\n",
        "#from sklearnex import patch_sklearn # if you have an Intel CPU and have installed the Intel MKL \n",
        "#patch_sklearn()                     # library you can uncomment these lines for a speedup"
      ]
    },
    {
      "cell_type": "code",
      "execution_count": 3,
      "metadata": {
        "id": "gSV4rwWFlsHr"
      },
      "outputs": [],
      "source": [
        "# helper function to load Fashion MNIST dataset from disk\n",
        "def load_mnist(path, kind='train'):\n",
        "    import os\n",
        "    import gzip\n",
        "    import numpy as np\n",
        "    labels_path = os.path.join(path, '%s-labels-idx1-ubyte.gz' % kind)\n",
        "    images_path = os.path.join(path, '%s-images-idx3-ubyte.gz' % kind)\n",
        "    with gzip.open(labels_path, 'rb') as lbpath:\n",
        "        labels = np.frombuffer(lbpath.read(), dtype=np.uint8,offset=8)\n",
        "    with gzip.open(images_path, 'rb') as imgpath:\n",
        "        images = np.frombuffer(imgpath.read(), dtype=np.uint8,offset=16).reshape(len(labels), 784)\n",
        "    return images, labels"
      ]
    },
    {
      "cell_type": "markdown",
      "metadata": {
        "tags": [],
        "id": "ol5mmdgglsHs"
      },
      "source": [
        "Place your **name** and **ID number** (matricola) in the cell below. <br>\n",
        "Also recall to **save the file as Surname_Name_LAB3.ipynb**"
      ]
    },
    {
      "cell_type": "markdown",
      "metadata": {
        "id": "fXEN3ryelsHu"
      },
      "source": [
        "**Student name**: Mohammad Takafouyan<br>\n",
        "**ID Number**: "
      ]
    },
    {
      "cell_type": "markdown",
      "metadata": {
        "id": "XnUMetq4lsHv"
      },
      "source": [
        "# A) Hyperparameter Search"
      ]
    },
    {
      "cell_type": "markdown",
      "metadata": {
        "id": "bdLt6nWFlsHw"
      },
      "source": [
        "**TO DO A.0:** **Set** the random **seed** using your **ID**. If you need to change it for testing add a constant explicitly, eg.: `ID = 1234567 + 1`."
      ]
    },
    {
      "cell_type": "code",
      "execution_count": 4,
      "metadata": {
        "id": "tl1d-xUvlsHx"
      },
      "outputs": [],
      "source": [
        "ID = \n",
        "np.random.seed(ID)"
      ]
    },
    {
      "cell_type": "markdown",
      "metadata": {
        "id": "Q5ASITpflsHy"
      },
      "source": [
        "Before proceding to the training steps, we **load the dataset**. <br>\n",
        "The **split** is **performed after applying a random permutation** to the dataset, such permutation will **depend on the seed** you set above.<br><br>\n",
        "**DO NOT CHANGE THE PRE-WRITTEN CODE UNLESS OTHERWISE SPECIFIED**"
      ]
    },
    {
      "cell_type": "code",
      "execution_count": 20,
      "metadata": {
        "colab": {
          "base_uri": "https://localhost:8080/"
        },
        "id": "MUOx05HnlsHz",
        "outputId": "7917faac-77d5-48a0-d1e3-e675eb12fccb"
      },
      "outputs": [
        {
          "output_type": "stream",
          "name": "stdout",
          "text": [
            "Number of samples in the MNIST dataset: 60000\n"
          ]
        }
      ],
      "source": [
        "# load the MNIST dataset\n",
        "X, y = load_mnist(\"data\")\n",
        "print(\"Number of samples in the MNIST dataset:\", X.shape[0])\n",
        "# rescale the data to [0, 1]\n",
        "X = X / 255.0"
      ]
    },
    {
      "cell_type": "markdown",
      "metadata": {
        "id": "NmBAJw2FlsH0"
      },
      "source": [
        "**TO DO A.1:** **Divide** the **data into training and test set** using a **500** samples in the **training set**. <br>\n",
        "Make sure that **each label** is present at **least 10 times** in training frequencies."
      ]
    },
    {
      "cell_type": "code",
      "execution_count": 21,
      "metadata": {
        "colab": {
          "base_uri": "https://localhost:8080/"
        },
        "id": "uaLQ_fFnlsH0",
        "outputId": "71451ee6-8193-4fbe-f9b3-87e9c5e6cd90"
      },
      "outputs": [
        {
          "output_type": "stream",
          "name": "stdout",
          "text": [
            "Labels in training dataset:  [0 1 2 3 4 5 6 7 8 9]\n",
            "Frequencies in training dataset:  [38 48 41 40 58 57 60 56 50 52]\n"
          ]
        }
      ],
      "source": [
        "# randomly permute the data and split into training and test taking \n",
        "# the first 500 data samples as training and the rests as test\n",
        "permutation = np.random.permutation(X.shape[0]) # ADD YOUR CODE HERE\n",
        "\n",
        "X = X[permutation]\n",
        "y = y[permutation]\n",
        "\n",
        "m_training = 500 # ADD YOUR CODE HERE\n",
        "\n",
        "X_train, X_test = X[:m_training], X[m_training:]# ADD YOUR CODE HERE\n",
        "y_train, y_test = y[:m_training], y[m_training:] # ADD YOUR CODE HERE\n",
        "\n",
        "labels, freqs = np.unique(y_train, return_counts=True) # ADD YOUR CODE HERE\n",
        "print(\"Labels in training dataset: \", labels)\n",
        "print(\"Frequencies in training dataset: \", freqs)"
      ]
    },
    {
      "cell_type": "code",
      "execution_count": 22,
      "metadata": {
        "id": "CsYbqZIalsH1"
      },
      "outputs": [],
      "source": [
        "# function for plotting a image and printing the corresponding label\n",
        "def plot_input(X_matrix, labels, index):\n",
        "    print(\"INPUT:\")\n",
        "    plt.imshow(\n",
        "        X_matrix[index].reshape(28,28),\n",
        "        cmap          = plt.cm.gray_r,\n",
        "        interpolation = \"nearest\"\n",
        "    )\n",
        "    plt.show()\n",
        "    print(\"LABEL: %i\"%labels[index])\n",
        "    return"
      ]
    },
    {
      "cell_type": "code",
      "execution_count": 23,
      "metadata": {
        "colab": {
          "base_uri": "https://localhost:8080/",
          "height": 865
        },
        "id": "tXAnV6jMlsH2",
        "outputId": "06fbd6d0-c330-4b9e-dea0-d84f23ea7a98"
      },
      "outputs": [
        {
          "output_type": "stream",
          "name": "stdout",
          "text": [
            "INPUT:\n"
          ]
        },
        {
          "output_type": "display_data",
          "data": {
            "text/plain": [
              "<Figure size 432x288 with 1 Axes>"
            ],
            "image/png": "[encoded data removed]"
          },
          "metadata": {
            "needs_background": "light"
          }
        },
        {
          "output_type": "stream",
          "name": "stdout",
          "text": [
            "LABEL: 7\n",
            "INPUT:\n"
          ]
        },
        {
          "output_type": "display_data",
          "data": {
            "text/plain": [
              "<Figure size 432x288 with 1 Axes>"
            ],
            "image/png": "[encoded data removed]"
          },
          "metadata": {
            "needs_background": "light"
          }
        },
        {
          "output_type": "stream",
          "name": "stdout",
          "text": [
            "LABEL: 4\n",
            "INPUT:\n"
          ]
        },
        {
          "output_type": "display_data",
          "data": {
            "text/plain": [
              "<Figure size 432x288 with 1 Axes>"
            ],
            "image/png": "[encoded data removed]"
          },
          "metadata": {
            "needs_background": "light"
          }
        },
        {
          "output_type": "stream",
          "name": "stdout",
          "text": [
            "LABEL: 7\n"
          ]
        }
      ],
      "source": [
        "# let's try the plotting function\n",
        "plot_input(X_train,y_train,10)\n",
        "plot_input(X_test,y_test,100)\n",
        "plot_input(X_test,y_test,10000)"
      ]
    },
    {
      "cell_type": "markdown",
      "metadata": {
        "id": "aotwVeHAlsH2"
      },
      "source": [
        "**TO DO A.2** Now **use a feed-forward Neural Network** for prediction. <br><br>\n",
        "Use the **multi-layer perceptron** classifier, with the following parameters: <br>\n",
        "`max_iter=250, alpha=1e-4, solver='sgd', tol=1e-4, learning_rate_init=.1, random_state=ID` <br>\n",
        "The `random_state` parameter ensures the run is the same even if you run it more than once, while the `alpha` parameter is the regularization term.<br>\n",
        "You might get some **warnings about the convergence**, ignore them (or try to increase the max_iter parameter if you have a powerful computer). <br>\n",
        "\n",
        "Then, using the default activation function, **pick four or five architectures** to consider, with different numbers of hidden layers and different sizes. <br>\n",
        "It is not necessary to create huge neural networks, you can limit to 3 layers and, for each layer, its maximum size can be of 100. <br>\n",
        "Evaluate the architectures you chose using **GridSearchCV with cv=5**. <br>\n",
        "\n",
        "You can reduce the number of iterations if the running time is too long on your computer."
      ]
    },
    {
      "cell_type": "code",
      "execution_count": 30,
      "metadata": {
        "colab": {
          "base_uri": "https://localhost:8080/",
          "height": 478
        },
        "id": "zzxNvgpelsH3",
        "outputId": "594823e1-adf1-494e-ac79-dcf99b8094f0"
      },
      "outputs": [
        {
          "output_type": "stream",
          "name": "stdout",
          "text": [
            "RESULTS FOR NN\n",
            "\n",
            "Best parameters set found: MLPClassifier(hidden_layer_sizes=(25,), learning_rate_init=0.1, max_iter=250,\n",
            "              random_state=2041469, solver='sgd')\n",
            "Score with best parameters:\n",
            "\n",
            "Mean scores on the grid:\n"
          ]
        },
        {
          "output_type": "display_data",
          "data": {
            "text/plain": [
              "   mean_fit_time  std_fit_time  mean_score_time  std_score_time  \\\n",
              "1       0.987179      0.087823         0.001262        0.000013   \n",
              "2       1.355781      0.083291         0.002146        0.001428   \n",
              "0       0.612069      0.315767         0.001261        0.000052   \n",
              "3       0.545211      0.304475         0.001184        0.000052   \n",
              "4       0.791692      0.240712         0.001459        0.000083   \n",
              "\n",
              "  param_hidden_layer_sizes                                params  \\\n",
              "1                    (25,)         {'hidden_layer_sizes': (25,)}   \n",
              "2                    (50,)         {'hidden_layer_sizes': (50,)}   \n",
              "0                    (10,)         {'hidden_layer_sizes': (10,)}   \n",
              "3                 (25, 10)      {'hidden_layer_sizes': (25, 10)}   \n",
              "4             (50, 25, 10)  {'hidden_layer_sizes': (50, 25, 10)}   \n",
              "\n",
              "   split0_test_score  split1_test_score  split2_test_score  split3_test_score  \\\n",
              "1               0.80               0.78               0.77               0.81   \n",
              "2               0.79               0.78               0.77               0.81   \n",
              "0               0.79               0.77               0.74               0.76   \n",
              "3               0.74               0.64               0.52               0.72   \n",
              "4               0.62               0.75               0.51               0.73   \n",
              "\n",
              "   split4_test_score  mean_test_score  std_test_score  rank_test_score  \n",
              "1               0.78            0.788        0.014697                1  \n",
              "2               0.79            0.788        0.013266                1  \n",
              "0               0.74            0.760        0.018974                3  \n",
              "3               0.79            0.682        0.094319                4  \n",
              "4               0.11            0.544        0.233375                5  "
            ],
            "text/html": [
              "\n",
              "  <div id=\"df-0b1a216e-1c93-4c6a-86c3-0bec3307929d\">\n",
              "    <div class=\"colab-df-container\">\n",
              "      <div>\n",
              "<style scoped>\n",
              "    .dataframe tbody tr th:only-of-type {\n",
              "        vertical-align: middle;\n",
              "    }\n",
              "\n",
              "    .dataframe tbody tr th {\n",
              "        vertical-align: top;\n",
              "    }\n",
              "\n",
              "    .dataframe thead th {\n",
              "        text-align: right;\n",
              "    }\n",
              "</style>\n",
              "<table border=\"1\" class=\"dataframe\">\n",
              "  <thead>\n",
              "    <tr style=\"text-align: right;\">\n",
              "      <th></th>\n",
              "      <th>mean_fit_time</th>\n",
              "      <th>std_fit_time</th>\n",
              "      <th>mean_score_time</th>\n",
              "      <th>std_score_time</th>\n",
              "      <th>param_hidden_layer_sizes</th>\n",
              "      <th>params</th>\n",
              "      <th>split0_test_score</th>\n",
              "      <th>split1_test_score</th>\n",
              "      <th>split2_test_score</th>\n",
              "      <th>split3_test_score</th>\n",
              "      <th>split4_test_score</th>\n",
              "      <th>mean_test_score</th>\n",
              "      <th>std_test_score</th>\n",
              "      <th>rank_test_score</th>\n",
              "    </tr>\n",
              "  </thead>\n",
              "  <tbody>\n",
              "    <tr>\n",
              "      <th>1</th>\n",
              "      <td>0.987179</td>\n",
              "      <td>0.087823</td>\n",
              "      <td>0.001262</td>\n",
              "      <td>0.000013</td>\n",
              "      <td>(25,)</td>\n",
              "      <td>{'hidden_layer_sizes': (25,)}</td>\n",
              "      <td>0.80</td>\n",
              "      <td>0.78</td>\n",
              "      <td>0.77</td>\n",
              "      <td>0.81</td>\n",
              "      <td>0.78</td>\n",
              "      <td>0.788</td>\n",
              "      <td>0.014697</td>\n",
              "      <td>1</td>\n",
              "    </tr>\n",
              "    <tr>\n",
              "      <th>2</th>\n",
              "      <td>1.355781</td>\n",
              "      <td>0.083291</td>\n",
              "      <td>0.002146</td>\n",
              "      <td>0.001428</td>\n",
              "      <td>(50,)</td>\n",
              "      <td>{'hidden_layer_sizes': (50,)}</td>\n",
              "      <td>0.79</td>\n",
              "      <td>0.78</td>\n",
              "      <td>0.77</td>\n",
              "      <td>0.81</td>\n",
              "      <td>0.79</td>\n",
              "      <td>0.788</td>\n",
              "      <td>0.013266</td>\n",
              "      <td>1</td>\n",
              "    </tr>\n",
              "    <tr>\n",
              "      <th>0</th>\n",
              "      <td>0.612069</td>\n",
              "      <td>0.315767</td>\n",
              "      <td>0.001261</td>\n",
              "      <td>0.000052</td>\n",
              "      <td>(10,)</td>\n",
              "      <td>{'hidden_layer_sizes': (10,)}</td>\n",
              "      <td>0.79</td>\n",
              "      <td>0.77</td>\n",
              "      <td>0.74</td>\n",
              "      <td>0.76</td>\n",
              "      <td>0.74</td>\n",
              "      <td>0.760</td>\n",
              "      <td>0.018974</td>\n",
              "      <td>3</td>\n",
              "    </tr>\n",
              "    <tr>\n",
              "      <th>3</th>\n",
              "      <td>0.545211</td>\n",
              "      <td>0.304475</td>\n",
              "      <td>0.001184</td>\n",
              "      <td>0.000052</td>\n",
              "      <td>(25, 10)</td>\n",
              "      <td>{'hidden_layer_sizes': (25, 10)}</td>\n",
              "      <td>0.74</td>\n",
              "      <td>0.64</td>\n",
              "      <td>0.52</td>\n",
              "      <td>0.72</td>\n",
              "      <td>0.79</td>\n",
              "      <td>0.682</td>\n",
              "      <td>0.094319</td>\n",
              "      <td>4</td>\n",
              "    </tr>\n",
              "    <tr>\n",
              "      <th>4</th>\n",
              "      <td>0.791692</td>\n",
              "      <td>0.240712</td>\n",
              "      <td>0.001459</td>\n",
              "      <td>0.000083</td>\n",
              "      <td>(50, 25, 10)</td>\n",
              "      <td>{'hidden_layer_sizes': (50, 25, 10)}</td>\n",
              "      <td>0.62</td>\n",
              "      <td>0.75</td>\n",
              "      <td>0.51</td>\n",
              "      <td>0.73</td>\n",
              "      <td>0.11</td>\n",
              "      <td>0.544</td>\n",
              "      <td>0.233375</td>\n",
              "      <td>5</td>\n",
              "    </tr>\n",
              "  </tbody>\n",
              "</table>\n",
              "</div>\n",
              "      <button class=\"colab-df-convert\" onclick=\"convertToInteractive('df-0b1a216e-1c93-4c6a-86c3-0bec3307929d')\"\n",
              "              title=\"Convert this dataframe to an interactive table.\"\n",
              "              style=\"display:none;\">\n",
              "        \n",
              "  <svg xmlns=\"http://www.w3.org/2000/svg\" height=\"24px\"viewBox=\"0 0 24 24\"\n",
              "       width=\"24px\">\n",
              "    <path d=\"M0 0h24v24H0V0z\" fill=\"none\"/>\n",
              "    <path d=\"M18.56 5.44l.94 2.06.94-2.06 2.06-.94-2.06-.94-.94-2.06-.94 2.06-2.06.94zm-11 1L8.5 8.5l.94-2.06 2.06-.94-2.06-.94L8.5 2.5l-.94 2.06-2.06.94zm10 10l.94 2.06.94-2.06 2.06-.94-2.06-.94-.94-2.06-.94 2.06-2.06.94z\"/><path d=\"M17.41 7.96l-1.37-1.37c-.4-.4-.92-.59-1.43-.59-.52 0-1.04.2-1.43.59L10.3 9.45l-7.72 7.72c-.78.78-.78 2.05 0 2.83L4 21.41c.39.39.9.59 1.41.59.51 0 1.02-.2 1.41-.59l7.78-7.78 2.81-2.81c.8-.78.8-2.07 0-2.86zM5.41 20L4 18.59l7.72-7.72 1.47 1.35L5.41 20z\"/>\n",
              "  </svg>\n",
              "      </button>\n",
              "      \n",
              "  <style>\n",
              "    .colab-df-container {\n",
              "      display:flex;\n",
              "      flex-wrap:wrap;\n",
              "      gap: 12px;\n",
              "    }\n",
              "\n",
              "    .colab-df-convert {\n",
              "      background-color: #E8F0FE;\n",
              "      border: none;\n",
              "      border-radius: 50%;\n",
              "      cursor: pointer;\n",
              "      display: none;\n",
              "      fill: #1967D2;\n",
              "      height: 32px;\n",
              "      padding: 0 0 0 0;\n",
              "      width: 32px;\n",
              "    }\n",
              "\n",
              "    .colab-df-convert:hover {\n",
              "      background-color: #E2EBFA;\n",
              "      box-shadow: 0px 1px 2px rgba(60, 64, 67, 0.3), 0px 1px 3px 1px rgba(60, 64, 67, 0.15);\n",
              "      fill: #174EA6;\n",
              "    }\n",
              "\n",
              "    [theme=dark] .colab-df-convert {\n",
              "      background-color: #3B4455;\n",
              "      fill: #D2E3FC;\n",
              "    }\n",
              "\n",
              "    [theme=dark] .colab-df-convert:hover {\n",
              "      background-color: #434B5C;\n",
              "      box-shadow: 0px 1px 3px 1px rgba(0, 0, 0, 0.15);\n",
              "      filter: drop-shadow(0px 1px 2px rgba(0, 0, 0, 0.3));\n",
              "      fill: #FFFFFF;\n",
              "    }\n",
              "  </style>\n",
              "\n",
              "      <script>\n",
              "        const buttonEl =\n",
              "          document.querySelector('#df-0b1a216e-1c93-4c6a-86c3-0bec3307929d button.colab-df-convert');\n",
              "        buttonEl.style.display =\n",
              "          google.colab.kernel.accessAllowed ? 'block' : 'none';\n",
              "\n",
              "        async function convertToInteractive(key) {\n",
              "          const element = document.querySelector('#df-0b1a216e-1c93-4c6a-86c3-0bec3307929d');\n",
              "          const dataTable =\n",
              "            await google.colab.kernel.invokeFunction('convertToInteractive',\n",
              "                                                     [key], {});\n",
              "          if (!dataTable) return;\n",
              "\n",
              "          const docLinkHtml = 'Like what you see? Visit the ' +\n",
              "            '<a target=\"_blank\" href=https://colab.research.google.com/notebooks/data_table.ipynb>data table notebook</a>'\n",
              "            + ' to learn more about interactive tables.';\n",
              "          element.innerHTML = '';\n",
              "          dataTable['output_type'] = 'display_data';\n",
              "          await google.colab.output.renderOutput(dataTable, element);\n",
              "          const docLink = document.createElement('div');\n",
              "          docLink.innerHTML = docLinkHtml;\n",
              "          element.appendChild(docLink);\n",
              "        }\n",
              "      </script>\n",
              "    </div>\n",
              "  </div>\n",
              "  "
            ]
          },
          "metadata": {}
        }
      ],
      "source": [
        "# these are sample values but feel free to change them as you like, try to experiment with different sizes!!\n",
        "parameters = {'hidden_layer_sizes': [(10,), (25,), (50,), (25,10,), (50,25,10) ]}\n",
        "\n",
        "mlp = MLPClassifier(parameters,max_iter=250, alpha=1e-4, solver='sgd', tol=1e-4, learning_rate_init=.1, random_state=ID) # ADD YOUR CODE HERE\n",
        "\n",
        "mlp_arch_CV = GridSearchCV(mlp,parameters,cv=5) # ADD YOUR CODE HERE\n",
        "mlp_arch_CV.fit(X_train, y_train)\n",
        "\n",
        "print ('RESULTS FOR NN\\n')\n",
        "print(\"Best parameters set found:\", mlp_arch_CV.best_estimator_) # ADD YOUR CODE HERE\n",
        "\n",
        "print(\"Score with best parameters:\".format(mlp_arch_CV.best_score_)) # ADD YOUR CODE HERE\n",
        "\n",
        "print(\"\\nMean scores on the grid:\")\n",
        "import pandas as pd\n",
        "display(pd.DataFrame(mlp_arch_CV.cv_results_).sort_values(by='rank_test_score')) # ADD YOUR CODE HERE\n",
        "\n"
      ]
    },
    {
      "cell_type": "markdown",
      "metadata": {
        "id": "Rd47oVNplsH4"
      },
      "source": [
        "**TO DO A.3** Now **try different batch sizes**, while keeping the **best NN** architecture you have found above. <br>\n",
        "Remember that the batch size was previously set to the default value, i.e., `min(200, n_samples)`. <br>\n",
        "\n",
        "Recall that a **batch size of 1 corresponds to baseline SGD**, while using all the **400 training samples** (there are 500 samples but in cross validation with 5 folders we use 1/5 of them for validation at each round) corresponds to **standard GD** and using a different mini-batch size lies in the middle between the two extreme cases."
      ]
    },
    {
      "cell_type": "code",
      "execution_count": 42,
      "metadata": {
        "id": "2ha8xxBxlsH4",
        "colab": {
          "base_uri": "https://localhost:8080/"
        },
        "outputId": "7eb74bf3-7cec-4d19-a442-d37577a5aedb"
      },
      "outputs": [
        {
          "output_type": "stream",
          "name": "stdout",
          "text": [
            "RESULTS FOR NN\n",
            "\n",
            "Best parameters set found:\n",
            "three layer perceptron:\n",
            "Score with best parameters: {'cv': 5, 'error_score': nan, 'estimator__activation': 'relu', 'estimator__alpha': 0.0001, 'estimator__batch_size': 'auto', 'estimator__beta_1': 0.9, 'estimator__beta_2': 0.999, 'estimator__early_stopping': False, 'estimator__epsilon': 1e-08, 'estimator__hidden_layer_sizes': {'hidden_layer_sizes': [(10,), (25,), (50,), (25, 10), (50, 25, 10)]}, 'estimator__learning_rate': 'constant', 'estimator__learning_rate_init': 0.1, 'estimator__max_fun': 15000, 'estimator__max_iter': 250, 'estimator__momentum': 0.9, 'estimator__n_iter_no_change': 10, 'estimator__nesterovs_momentum': True, 'estimator__power_t': 0.5, 'estimator__random_state': 2041469, 'estimator__shuffle': True, 'estimator__solver': 'sgd', 'estimator__tol': 0.0001, 'estimator__validation_fraction': 0.1, 'estimator__verbose': False, 'estimator__warm_start': False, 'estimator': MLPClassifier(hidden_layer_sizes={'hidden_layer_sizes': [(10,), (25,), (50,),\n",
            "                                                         (25, 10),\n",
            "                                                         (50, 25, 10)]},\n",
            "              learning_rate_init=0.1, max_iter=250, random_state=2041469,\n",
            "              solver='sgd'), 'n_jobs': None, 'param_grid': {'hidden_layer_sizes': [(10,), (25,), (50,), (25, 10), (50, 25, 10)]}, 'pre_dispatch': '2*n_jobs', 'refit': True, 'return_train_score': False, 'scoring': None, 'verbose': 0}\n",
            "\n",
            "All scores on the grid: {'cv': 5, 'error_score': nan, 'estimator__activation': 'relu', 'estimator__alpha': 0.0001, 'estimator__batch_size': 'auto', 'estimator__beta_1': 0.9, 'estimator__beta_2': 0.999, 'estimator__early_stopping': False, 'estimator__epsilon': 1e-08, 'estimator__hidden_layer_sizes': {'hidden_layer_sizes': [(10,), (25,), (50,), (25, 10), (50, 25, 10)]}, 'estimator__learning_rate': 'constant', 'estimator__learning_rate_init': 0.1, 'estimator__max_fun': 15000, 'estimator__max_iter': 250, 'estimator__momentum': 0.9, 'estimator__n_iter_no_change': 10, 'estimator__nesterovs_momentum': True, 'estimator__power_t': 0.5, 'estimator__random_state': 2041469, 'estimator__shuffle': True, 'estimator__solver': 'sgd', 'estimator__tol': 0.0001, 'estimator__validation_fraction': 0.1, 'estimator__verbose': False, 'estimator__warm_start': False, 'estimator': MLPClassifier(hidden_layer_sizes={'hidden_layer_sizes': [(10,), (25,), (50,),\n",
            "                                                         (25, 10),\n",
            "                                                         (50, 25, 10)]},\n",
            "              learning_rate_init=0.1, max_iter=250, random_state=2041469,\n",
            "              solver='sgd'), 'n_jobs': None, 'param_grid': {'hidden_layer_sizes': [(10,), (25,), (50,), (25, 10), (50, 25, 10)]}, 'pre_dispatch': '2*n_jobs', 'refit': True, 'return_train_score': False, 'scoring': None, 'verbose': 0}\n"
          ]
        }
      ],
      "source": [
        "# these are sample values corresponding to baseline SGD, a reasonable mini-batch size and standard GD\n",
        "# again feel free to change them as you like, try to experiment with different batch sizes!!\n",
        "parameters = {'batch_size': [1, 32, 400]}\n",
        "\n",
        "# need to specify that you would like to use the standard k-fold split otherwise sklearn create splits of different sizes\n",
        "kf =  sklearn.model_selection.KFold(n_splits=5) # ADD YOUR CODE HERE, suggestion: http://scikit-learn.org/stable/modules/generated/sklearn.model_selection.KFold.html\n",
        "best_hidden_layer_sizes = 50 # ADD YOUR CODE HERE\n",
        "mlp = GridSearchCV(best_hidden_layer_sizes, parameters, scoring='accuracy', cv=kf) # ADD YOUR CODE HERE\n",
        "\n",
        "# recall to use cv=kf to use the k-fold subdivision seen in the lectures\n",
        "mlp_batch_CV = mlp_arch_CV # ADD YOUR CODE HERE\n",
        "mlp_batch_CV.fit(X_train, y_train)\n",
        "\n",
        "print ('RESULTS FOR NN\\n')\n",
        "print(\"Best parameters set found:\")\n",
        "print(\"three layer perceptron:\")\n",
        "# ADD YOUR CODE HERE\n",
        "\n",
        "print(\"Score with best parameters:\",mlp_batch_CV.get_params())\n",
        "# ADD YOUR CODE HERE\n",
        "\n",
        "print(\"\\nAll scores on the grid:\",mlp_batch_CV.get_params())\n",
        "# ADD YOUR CODE HERE"
      ]
    },
    {
      "cell_type": "markdown",
      "metadata": {
        "id": "krp9FNwIlsH5"
      },
      "source": [
        "**TO DO A.Q1**\n",
        "\n",
        "- What do you observe for different architectures and batch sizes? <br>\n",
        "- How do the number of layers and their sizes affect the performances? <br>\n",
        "- What do you observe for different batch sizes, in particular what happens to the training convergence for different batch sizes (notice that the algorithm could not converge for some batch sizes)?"
      ]
    },
    {
      "cell_type": "markdown",
      "metadata": {
        "id": "94ODwehClsH5"
      },
      "source": [
        "<div class=\"alert alert-block alert-info\">\n",
        "**ANSWER A.Q1**:<br>\n",
        "The accuracy of batch sizes increases as batch sizes grow, and performance increases as layers and neurons increase.\n",
        "The best result is obtained with a 50 neurons single hidden layer. \n",
        "    </div>"
      ]
    },
    {
      "cell_type": "markdown",
      "metadata": {
        "id": "eangSbVClsH6"
      },
      "source": [
        "**TO DO A.4** Now **try** to use **different learning rates**, while keeping the **best NN architecture and batch size you have found above.** <br>\n",
        "**Plot the learning curves** (i.e., the variation of the loss over the steps, you can get it from the loss_curve_ object of sklearn) for the different values of the learning rate. <br>\n",
        "You might get warnings about the convergence, this is expected. Ignore them."
      ]
    },
    {
      "cell_type": "code",
      "execution_count": 56,
      "metadata": {
        "id": "dfgJ5Ox3lsH6",
        "colab": {
          "base_uri": "https://localhost:8080/",
          "height": 366
        },
        "outputId": "da8bbafb-e324-45de-b70a-d8b7b8300815"
      },
      "outputs": [
        {
          "output_type": "display_data",
          "data": {
            "text/plain": [
              "<Figure size 432x288 with 1 Axes>"
            ],
            "image/png": "[encoded data removed]"
          },
          "metadata": {
            "needs_background": "light"
          }
        },
        {
          "output_type": "stream",
          "name": "stdout",
          "text": [
            "RESULTS FOR NN\n",
            "\n",
            "Best parameters set found: 0.004 0.04\n",
            "Score with best parameters:\n",
            "0.4\n"
          ]
        }
      ],
      "source": [
        "lr_list = [4*10**exp for exp in range(-4,0)]\n",
        "scores = {}\n",
        "\n",
        "best_hidden_layer_sizes = 50 # ADD YOUR CODE HERE\n",
        "best_batch_size = 15 # ADD YOUR CODE HERE\n",
        "\n",
        "for lr in lr_list: \n",
        "    mlp = MLPClassifier(max_iter=250 ,hidden_layer_sizes=best_hidden_layer_sizes, solver='sgd', tol=1e-4, random_state=ID, learning_rate_init=.1) # ADD YOUR CODE HERE\n",
        "    mlp.fit(X_train, y_train)\n",
        "    scores[lr] = mlp.score(X, y) # ADD YOUR CODE HERE, score on the test set\n",
        "    plt.plot(mlp.loss_curve_, label='lr: ' + str(lr))\n",
        "\n",
        "plt.legend(loc = 1)\n",
        "plt.xlabel('Number of iterations')\n",
        "plt.ylabel('Loss')\n",
        "plt.show()\n",
        "\n",
        "print ('RESULTS FOR NN\\n')\n",
        "print(\"Best parameters set found:\",lr_list[1],lr_list[2])\n",
        "# ADD YOUR CODE HERE\n",
        "\n",
        "print(\"Score with best parameters:\")\n",
        "print(max(scores))\n",
        "# ADD YOUR CODE HERE"
      ]
    },
    {
      "cell_type": "markdown",
      "metadata": {
        "id": "S3KgBoLIlsH7"
      },
      "source": [
        "**Question A.Q2** Comment about the learning curves (i.e. the variation of the loss over the steps). <br>\n",
        "How does the curve changes for different learning rates in terms of stability and speed of convergence ?"
      ]
    },
    {
      "cell_type": "markdown",
      "metadata": {
        "id": "PueKeP8JlsH7"
      },
      "source": [
        "<div class=\"alert alert-block alert-info\">\n",
        "**ANSWER A.Q2**:<br>\n",
        "Learning rate decreases with fluctuation, which results in decreased performance and accuracy.\n",
        "    </div>"
      ]
    },
    {
      "cell_type": "markdown",
      "metadata": {
        "id": "W_e4cT8GlsH8"
      },
      "source": [
        "**TO DO A.5** Now get **training and test error** for a NN with best parameters (architecture, batch size and learning rate)from above. Plot the learning curve also for this case. <br>\n",
        "As before, you might get a convergence warning, you can safely ignore it."
      ]
    },
    {
      "cell_type": "code",
      "execution_count": 57,
      "metadata": {
        "scrolled": true,
        "id": "d4SKoguNlsH8",
        "colab": {
          "base_uri": "https://localhost:8080/",
          "height": 366
        },
        "outputId": "b818edcb-eddc-4c53-d1db-cd8a9cd88b10"
      },
      "outputs": [
        {
          "output_type": "stream",
          "name": "stdout",
          "text": [
            "\n",
            "RESULTS FOR BEST NN\n",
            "\n",
            "Best NN training error: 0.120000\n",
            "Best NN test error: 0.099832\n"
          ]
        },
        {
          "output_type": "display_data",
          "data": {
            "text/plain": [
              "<Figure size 432x288 with 1 Axes>"
            ],
            "image/png": "[encoded data removed]"
          },
          "metadata": {
            "needs_background": "light"
          }
        }
      ],
      "source": [
        "#get training and test error for the best NN model from CV\n",
        "mlp = MLPClassifier(max_iter=500 ,hidden_layer_sizes=best_hidden_layer_sizes, solver='sgd', batch_size=best_batch_size, tol=1e-4,learning_rate_init=lr ,random_state=ID) # ADD YOUR CODE HERE\n",
        "mlp.fit(X_train, y_train)\n",
        "\n",
        "training_error = mlp.score(X_train, y_train) # ADD YOUR CODE HERE\n",
        "test_error = mlp.score(X_test, y_test) # ADD YOUR CODE HERE\n",
        "\n",
        "print ('\\nRESULTS FOR BEST NN\\n')\n",
        "\n",
        "print (\"Best NN training error: %f\" % training_error)\n",
        "print (\"Best NN test error: %f\" % test_error)\n",
        "\n",
        "plt.plot(mlp.loss_curve_, label=\"loss\")\n",
        "plt.legend(loc = 1)\n",
        "plt.xlabel('Number of iterations')\n",
        "plt.ylabel('Loss')\n",
        "plt.show()"
      ]
    },
    {
      "cell_type": "markdown",
      "metadata": {
        "id": "lFiaemg_lsH9"
      },
      "source": [
        "## B) More data \n",
        "Now let's do the same but **using 20000** (or less if it takes too long on your machine) **data points for training**. <br>\n",
        "Make sure you are **consistent with the choice of `m_training`** in this and the later cells. <br>\n",
        "Use the **same NN architecture** as before, but you can try more if you like and have a powerful computer!!"
      ]
    },
    {
      "cell_type": "code",
      "execution_count": 59,
      "metadata": {
        "colab": {
          "base_uri": "https://localhost:8080/"
        },
        "id": "2GxdKsH_lsH9",
        "outputId": "279029fa-5ba1-491c-cf2d-698f80e60a37"
      },
      "outputs": [
        {
          "output_type": "stream",
          "name": "stdout",
          "text": [
            "Labels in training dataset:  [0, 1, 2, 3, 4, 5, 6, 7, 8, 9]\n",
            "Frequencies in training dataset:  6000\n"
          ]
        }
      ],
      "source": [
        "X = X[permutation]\n",
        "y = y[permutation]\n",
        "\n",
        "m_training = 20000 # ADD YOUR CODE HERE\n",
        "\n",
        "X_train, X_test = X[:m_training], X[m_training:] # ADD YOUR CODE HERE\n",
        "y_train, y_test = y[:m_training], y[m_training:] # ADD YOUR CODE HERE\n",
        "\n",
        "labels, freqs = [0,1,2,3,4,5,6,7,8,9], len(X)//10 # ADD YOUR CODE HERE\n",
        "print(\"Labels in training dataset: \", labels)\n",
        "print(\"Frequencies in training dataset: \", freqs)"
      ]
    },
    {
      "cell_type": "markdown",
      "metadata": {
        "id": "54oA1OfvlsH9"
      },
      "source": [
        "**TO DO B.1** Train the NNs with the added data points using the optimum parameters found above. <br>\n",
        "Eventually, feel free to try different architectures if you like. <br>\n",
        "We suggest that you use `verbose=True` so have an idea of how long it takes to run 1 iteration (eventually reduce also the number of iterations to 50). <br>\n",
        "This is just for debug purposes, **remember to switch it off** once you found a setup you like. <br>\n",
        "As before, you might get a convergence warning (especially if you reduced the number of iterations), you can safely ignore it."
      ]
    },
    {
      "cell_type": "code",
      "execution_count": 61,
      "metadata": {
        "colab": {
          "base_uri": "https://localhost:8080/"
        },
        "id": "QcA9ozSKlsH-",
        "outputId": "13117dfd-7872-4bf9-e5d5-df82011f09a0"
      },
      "outputs": [
        {
          "output_type": "stream",
          "name": "stderr",
          "text": [
            "/usr/local/lib/python3.8/dist-packages/sklearn/neural_network/_multilayer_perceptron.py:692: ConvergenceWarning: Stochastic Optimizer: Maximum iterations (250) reached and the optimization hasn't converged yet.\n",
            "  warnings.warn(\n",
            "/usr/local/lib/python3.8/dist-packages/sklearn/neural_network/_multilayer_perceptron.py:699: UserWarning: Training interrupted by user.\n",
            "  warnings.warn(\"Training interrupted by user.\")\n"
          ]
        },
        {
          "output_type": "stream",
          "name": "stdout",
          "text": [
            "\n",
            "RESULTS FOR NN\n",
            "\n",
            "NN training error: 0.027800\n",
            "NN test error: 0.143125\n"
          ]
        }
      ],
      "source": [
        "mlp_large = mlp_batch_CV # ADD YOUR CODE HERE\n",
        "mlp_large.fit(X_train, y_train)\n",
        "\n",
        "print ('\\nRESULTS FOR NN\\n')\n",
        "\n",
        "#get training and test error for the NN\n",
        "training_error = 1. - mlp_large.score(X_train,y_train) # ADD YOUR CODE HERE\n",
        "test_error = 1. - mlp_large.score(X_test,y_test) # ADD YOUR CODE HERE\n",
        "print (\"NN training error: %f\" % training_error)\n",
        "print (\"NN test error: %f\" % test_error)"
      ]
    },
    {
      "cell_type": "markdown",
      "metadata": {
        "id": "Kx9M9Ij7lsH-"
      },
      "source": [
        "**Question B.Q1** Compare the train and test error you got with a large number of samples with the best one you obtained with only 500 data points. Comment about the results you obtained."
      ]
    },
    {
      "cell_type": "markdown",
      "metadata": {
        "id": "LB8tDuJHlsH_"
      },
      "source": [
        "<div class=\"alert alert-block alert-info\">\n",
        "**ANSWER B.Q1**:<br>\n",
        "answer here\n",
        "    </div>"
      ]
    },
    {
      "cell_type": "markdown",
      "metadata": {
        "id": "0FJsUdRhlsIA"
      },
      "source": [
        "**TO DO B.2** Plot an example that was missclassified by NN with m=500 training data points and it is now instead correctly classified by NN with m=20000 training data points."
      ]
    },
    {
      "cell_type": "code",
      "execution_count": 76,
      "metadata": {
        "colab": {
          "base_uri": "https://localhost:8080/",
          "height": 334
        },
        "id": "xt6HT7kwlsIA",
        "outputId": "cb32cb9f-d7ea-47da-d068-8411c968181b"
      },
      "outputs": [
        {
          "output_type": "stream",
          "name": "stdout",
          "text": [
            "INPUT:\n"
          ]
        },
        {
          "output_type": "display_data",
          "data": {
            "text/plain": [
              "<Figure size 432x288 with 1 Axes>"
            ],
            "image/png": "[encoded data removed]"
          },
          "metadata": {
            "needs_background": "light"
          }
        },
        {
          "output_type": "stream",
          "name": "stdout",
          "text": [
            "LABEL: 5\n",
            "NN prediction for m=500: 1\n",
            "NN prediction for m=20000: 5\n"
          ]
        }
      ],
      "source": [
        "NN_prediction = mlp_large.predict(X_test) # ADD YOUR CODE HERE\n",
        "large_NN_prediction = y_test # ADD YOUR CODE HERE\n",
        "\n",
        "for i, (p, pl, l) in enumerate(zip(NN_prediction, large_NN_prediction, y_test)):\n",
        "    if p != l and pl == l:\n",
        "        plot_input(X_test, y_test, i)\n",
        "        print(\"NN prediction for m=500:\", p)\n",
        "        print(\"NN prediction for m=20000:\", pl)\n",
        "        break"
      ]
    },
    {
      "cell_type": "markdown",
      "metadata": {
        "id": "tgcK9ONOlsIB"
      },
      "source": [
        "**TO DO B.3** Plot the weigths of the multi-layer perceptron classifier, for the best NN we get with 500 data points and with 20000 data points. <br>\n",
        "Note that the code is provided, you just need to change the `mlp` variable name to the one used before - if you changed it.  "
      ]
    },
    {
      "cell_type": "code",
      "execution_count": 87,
      "metadata": {
        "colab": {
          "base_uri": "https://localhost:8080/",
          "height": 759
        },
        "id": "RI9XNL3SlsIB",
        "outputId": "8d15f3be-7a19-4cbd-dc59-0dac828f58f4"
      },
      "outputs": [
        {
          "output_type": "stream",
          "name": "stdout",
          "text": [
            "Weights with 500 data points:\n"
          ]
        },
        {
          "output_type": "display_data",
          "data": {
            "text/plain": [
              "<Figure size 432x288 with 16 Axes>"
            ],
            "image/png": "[encoded data removed]"
          },
          "metadata": {}
        },
        {
          "output_type": "stream",
          "name": "stdout",
          "text": [
            "Weights with 20000 data points:\n"
          ]
        },
        {
          "output_type": "error",
          "ename": "AttributeError",
          "evalue": "ignored",
          "traceback": [
            "\u001b[0;31m---------------------------------------------------------------------------\u001b[0m",
            "\u001b[0;31mAttributeError\u001b[0m                            Traceback (most recent call last)",
            "\u001b[0;32m<ipython-input-87-c80dd6e1c13e>\u001b[0m in \u001b[0;36m<module>\u001b[0;34m\u001b[0m\n\u001b[1;32m     12\u001b[0m \u001b[0mprint\u001b[0m\u001b[0;34m(\u001b[0m\u001b[0;34m\"Weights with 20000 data points:\"\u001b[0m\u001b[0;34m)\u001b[0m\u001b[0;34m\u001b[0m\u001b[0;34m\u001b[0m\u001b[0m\n\u001b[1;32m     13\u001b[0m \u001b[0mfig\u001b[0m\u001b[0;34m,\u001b[0m \u001b[0maxes\u001b[0m \u001b[0;34m=\u001b[0m \u001b[0mplt\u001b[0m\u001b[0;34m.\u001b[0m\u001b[0msubplots\u001b[0m\u001b[0;34m(\u001b[0m\u001b[0;36m4\u001b[0m\u001b[0;34m,\u001b[0m \u001b[0;36m4\u001b[0m\u001b[0;34m)\u001b[0m\u001b[0;34m\u001b[0m\u001b[0;34m\u001b[0m\u001b[0m\n\u001b[0;32m---> 14\u001b[0;31m \u001b[0mvmin\u001b[0m\u001b[0;34m,\u001b[0m \u001b[0mvmax\u001b[0m \u001b[0;34m=\u001b[0m \u001b[0mmlp_large\u001b[0m\u001b[0;34m.\u001b[0m\u001b[0mcoefs_\u001b[0m\u001b[0;34m[\u001b[0m\u001b[0;36m0\u001b[0m\u001b[0;34m]\u001b[0m\u001b[0;34m.\u001b[0m\u001b[0mmin\u001b[0m\u001b[0;34m(\u001b[0m\u001b[0;34m)\u001b[0m\u001b[0;34m,\u001b[0m \u001b[0mmlp_large\u001b[0m\u001b[0;34m.\u001b[0m\u001b[0mcoefs_\u001b[0m\u001b[0;34m[\u001b[0m\u001b[0;36m0\u001b[0m\u001b[0;34m]\u001b[0m\u001b[0;34m.\u001b[0m\u001b[0mmax\u001b[0m\u001b[0;34m(\u001b[0m\u001b[0;34m)\u001b[0m\u001b[0;34m\u001b[0m\u001b[0;34m\u001b[0m\u001b[0m\n\u001b[0m\u001b[1;32m     15\u001b[0m \u001b[0;32mfor\u001b[0m \u001b[0mcoef\u001b[0m\u001b[0;34m,\u001b[0m \u001b[0max\u001b[0m \u001b[0;32min\u001b[0m \u001b[0mzip\u001b[0m\u001b[0;34m(\u001b[0m\u001b[0mmlp_large\u001b[0m\u001b[0;34m.\u001b[0m\u001b[0mcoefs_\u001b[0m\u001b[0;34m[\u001b[0m\u001b[0;36m0\u001b[0m\u001b[0;34m]\u001b[0m\u001b[0;34m.\u001b[0m\u001b[0mT\u001b[0m\u001b[0;34m,\u001b[0m \u001b[0maxes\u001b[0m\u001b[0;34m.\u001b[0m\u001b[0mravel\u001b[0m\u001b[0;34m(\u001b[0m\u001b[0;34m)\u001b[0m\u001b[0;34m)\u001b[0m\u001b[0;34m:\u001b[0m\u001b[0;34m\u001b[0m\u001b[0;34m\u001b[0m\u001b[0m\n\u001b[1;32m     16\u001b[0m     ax.matshow(coef.reshape(28, 28), cmap=plt.cm.gray, vmin=.5 * vmin,\n",
            "\u001b[0;31mAttributeError\u001b[0m: 'GridSearchCV' object has no attribute 'coefs_'"
          ]
        },
        {
          "output_type": "display_data",
          "data": {
            "text/plain": [
              "<Figure size 432x288 with 16 Axes>"
            ],
            "image/png": "[encoded data removed]"
          },
          "metadata": {
            "needs_background": "light"
          }
        }
      ],
      "source": [
        "print(\"Weights with 500 data points:\")\n",
        "fig, axes = plt.subplots(4, 4)\n",
        "vmin, vmax = mlp.coefs_[0].min(), mlp.coefs_[0].max()\n",
        "for coef, ax in zip(mlp.coefs_[0].T, axes.ravel()):\n",
        "    ax.matshow(coef.reshape(28, 28), cmap=plt.cm.gray, vmin=.5 * vmin,\n",
        "               vmax=.5 * vmax)\n",
        "    ax.set_xticks(())\n",
        "    ax.set_yticks(())\n",
        "\n",
        "plt.show()\n",
        "\n",
        "print(\"Weights with 20000 data points:\")\n",
        "fig, axes = plt.subplots(4, 4)\n",
        "vmin, vmax = mlp_large.coefs_[0].min(), mlp_large.coefs_[0].max()\n",
        "for coef, ax in zip(mlp_large.coefs_[0].T, axes.ravel()):\n",
        "    ax.matshow(coef.reshape(28, 28), cmap=plt.cm.gray, vmin=.5 * vmin,\n",
        "               vmax=.5 * vmax)\n",
        "    ax.set_xticks(())\n",
        "    ax.set_yticks(())\n",
        "plt.show()"
      ]
    },
    {
      "cell_type": "markdown",
      "metadata": {
        "id": "Du8dgpXllsIB"
      },
      "source": [
        "**Question B.Q2** Describe what do you observe by looking at the weights"
      ]
    },
    {
      "cell_type": "markdown",
      "metadata": {
        "id": "S7ErFqlslsIC"
      },
      "source": [
        "<div class=\"alert alert-block alert-info\">\n",
        "**ANSWER B.Q2**:<br>\n",
        "answer here\n",
        "    </div>"
      ]
    },
    {
      "cell_type": "markdown",
      "metadata": {
        "id": "K378PD84lsIC"
      },
      "source": [
        "**TO DO B.4** Create a SVM classifier with the following parameters: `kernel='rbf', C=10, gamma=0.01`. <br>\n",
        "Fit it on a few data points and compute its training and test scores."
      ]
    },
    {
      "cell_type": "code",
      "execution_count": 88,
      "metadata": {
        "colab": {
          "base_uri": "https://localhost:8080/"
        },
        "id": "T_TYLrzJlsIC",
        "outputId": "a3210469-7acc-461f-ea8a-8d95b4e1d3dd"
      },
      "outputs": [
        {
          "output_type": "stream",
          "name": "stdout",
          "text": [
            "RESULTS FOR SVM\n",
            "Training score SVM:\n",
            "0.010499999999999954\n",
            "Test score SVM:\n",
            "0.12949999999999995\n"
          ]
        }
      ],
      "source": [
        "m_training = 6000 # ADD YOUR CODE HERE\n",
        "\n",
        "X_train, X_test = X[:m_training], X[m_training:2*m_training] # ADD YOUR CODE HERE\n",
        "y_train, y_test = y[:m_training], y[m_training:2*m_training] # ADD YOUR CODE HERE\n",
        "\n",
        "# best parameters found in the SVM notebook\n",
        "SVM = SVC(C=10, kernel='rbf', gamma=0.01) # ADD YOUR CODE HERE\n",
        "SVM.fit(X_train, y_train)\n",
        "\n",
        "print ('RESULTS FOR SVM')\n",
        "SVM_training_error = 1. - SVM.score(X_train,y_train) # ADD YOUR CODE HERE\n",
        "\n",
        "print(\"Training score SVM:\")\n",
        "print(SVM_training_error)\n",
        "\n",
        "SVM_test_error = 1. - SVM.score(X_test,y_test) # ADD YOUR CODE HERE\n",
        "print(\"Test score SVM:\")\n",
        "print(SVM_test_error)"
      ]
    },
    {
      "cell_type": "markdown",
      "metadata": {
        "id": "G1x2lqEulsID"
      },
      "source": [
        "**Question B.Q3** Compare the results of SVM and of NN. Which one achieves the best performances? "
      ]
    },
    {
      "cell_type": "markdown",
      "metadata": {
        "id": "nWzAo6uXlsID"
      },
      "source": [
        "<div class=\"alert alert-block alert-info\">\n",
        "**ANSWER B.Q3**:<br>\n",
        "In the feature space where the data can be linearly separated, the best performance comes from NN because layers mimic the behavior better.\n",
        "    </div>"
      ]
    }
  ],
  "metadata": {
    "kernelspec": {
      "display_name": "Python 3",
      "language": "python",
      "name": "python3"
    },
    "language_info": {
      "codemirror_mode": {
        "name": "ipython",
        "version": 3
      },
      "file_extension": ".py",
      "mimetype": "text/x-python",
      "name": "python",
      "nbconvert_exporter": "python",
      "pygments_lexer": "ipython3",
      "version": "3.8.8"
    },
    "colab": {
      "provenance": []
    }
  },
  "nbformat": 4,
  "nbformat_minor": 0
}